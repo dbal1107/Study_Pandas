{
 "cells": [
  {
   "cell_type": "code",
   "execution_count": 2,
   "id": "d074d821-4df6-42d5-a926-41f96ad66f55",
   "metadata": {},
   "outputs": [
    {
     "name": "stdin",
     "output_type": "stream",
     "text": [
      " 3000\n"
     ]
    },
    {
     "name": "stdout",
     "output_type": "stream",
     "text": [
      "3,000.00\n"
     ]
    }
   ],
   "source": [
    "while True:\n",
    "    price=input()\n",
    "    if price.isdigit():\n",
    "        price=int(price)\n",
    "        break\n",
    "print(f\"{price:,.2f}\")"
   ]
  },
  {
   "cell_type": "code",
   "execution_count": 3,
   "id": "2868281b-33aa-402b-982b-c278a7b7de73",
   "metadata": {},
   "outputs": [],
   "source": [
    "import re"
   ]
  },
  {
   "cell_type": "code",
   "execution_count": 13,
   "id": "0a21511d-d9e1-41aa-9000-d850025fc2b3",
   "metadata": {},
   "outputs": [
    {
     "name": "stdin",
     "output_type": "stream",
     "text": [
      " 010-8509-8512\n"
     ]
    },
    {
     "ename": "AttributeError",
     "evalue": "'function' object has no attribute 'group'",
     "output_type": "error",
     "traceback": [
      "\u001b[1;31m---------------------------------------------------------------------------\u001b[0m",
      "\u001b[1;31mAttributeError\u001b[0m                            Traceback (most recent call last)",
      "Input \u001b[1;32mIn [13]\u001b[0m, in \u001b[0;36m<cell line: 2>\u001b[1;34m()\u001b[0m\n\u001b[0;32m      1\u001b[0m \u001b[38;5;28;01mwhile\u001b[39;00m \u001b[38;5;28;01mTrue\u001b[39;00m:\n\u001b[0;32m      2\u001b[0m     num\u001b[38;5;241m=\u001b[39m\u001b[38;5;28minput\u001b[39m()\n\u001b[1;32m----> 3\u001b[0m     \u001b[38;5;28;01mif\u001b[39;00m \u001b[43mre\u001b[49m\u001b[38;5;241;43m.\u001b[39;49m\u001b[43msearch\u001b[49m\u001b[38;5;241;43m.\u001b[39;49m\u001b[43mgroup\u001b[49m(\u001b[38;5;124m'\u001b[39m\u001b[38;5;124m^[0,9]\u001b[39m\u001b[38;5;124m{\u001b[39m\u001b[38;5;124m2,3}-[0,9]\u001b[39m\u001b[38;5;124m{\u001b[39m\u001b[38;5;124m3,4}-[0,9]\u001b[39m\u001b[38;5;132;01m{4}\u001b[39;00m\u001b[38;5;124m'\u001b[39m,num):\n\u001b[0;32m      4\u001b[0m         \u001b[38;5;28;01mbreak\u001b[39;00m\n\u001b[0;32m      5\u001b[0m \u001b[38;5;28mprint\u001b[39m(num)\n",
      "\u001b[1;31mAttributeError\u001b[0m: 'function' object has no attribute 'group'"
     ]
    }
   ],
   "source": [
    "while True:\n",
    "    num=input()\n",
    "    if re.search.group('^[0,9]{2,3}-[0,9]{3,4}-[0,9]{4}',num):\n",
    "        break\n",
    "print(num)"
   ]
  },
  {
   "cell_type": "code",
   "execution_count": 14,
   "id": "563a8ffb-f5f9-438c-860e-89c5273c88a4",
   "metadata": {},
   "outputs": [
    {
     "name": "stdin",
     "output_type": "stream",
     "text": [
      " kjgguy@gjdh.cfj\n"
     ]
    },
    {
     "name": "stdout",
     "output_type": "stream",
     "text": [
      "kjgguy@gjdh.cfj\n"
     ]
    }
   ],
   "source": [
    "while True:\n",
    "    email=input()\n",
    "    p='[a-z][a-z0-9_]{4,}@[a-z]{2,}[.][a-z]{2,}'\n",
    "    patt=re.compile(p)\n",
    "    patt.match(email)\n",
    "    result=patt.match(email)\n",
    "    if result:\n",
    "        print(result.group())\n",
    "        break"
   ]
  },
  {
   "cell_type": "code",
   "execution_count": 17,
   "id": "047ea8a3-08af-4cb1-a30d-606cc4a49b57",
   "metadata": {},
   "outputs": [
    {
     "name": "stdin",
     "output_type": "stream",
     "text": [
      " 뢰ㅔ\n"
     ]
    },
    {
     "name": "stdout",
     "output_type": "stream",
     "text": [
      "뢰ㅔ\n"
     ]
    }
   ],
   "source": [
    "while True:\n",
    "    email=input()\n",
    "    p='[ㄱ-ㅣ가-힣]{2,}'\n",
    "    patt=re.compile(p)\n",
    "    patt.match(email)\n",
    "    result=patt.match(email)\n",
    "    if result:\n",
    "        print(result.group())\n",
    "        break"
   ]
  },
  {
   "cell_type": "code",
   "execution_count": null,
   "id": "632b764b-5b18-46f3-a4e8-2960f60ad325",
   "metadata": {},
   "outputs": [],
   "source": []
  }
 ],
 "metadata": {
  "kernelspec": {
   "display_name": "Python 3 (ipykernel)",
   "language": "python",
   "name": "python3"
  },
  "language_info": {
   "codemirror_mode": {
    "name": "ipython",
    "version": 3
   },
   "file_extension": ".py",
   "mimetype": "text/x-python",
   "name": "python",
   "nbconvert_exporter": "python",
   "pygments_lexer": "ipython3",
   "version": "3.9.12"
  }
 },
 "nbformat": 4,
 "nbformat_minor": 5
}
